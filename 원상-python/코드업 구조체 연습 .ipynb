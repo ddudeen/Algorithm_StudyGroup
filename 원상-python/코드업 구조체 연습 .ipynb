{
 "cells": [
  {
   "cell_type": "code",
   "execution_count": null,
   "metadata": {},
   "outputs": [],
   "source": [
    "# 코드업 1805번\n",
    "\n",
    "n = int(input())\n",
    "n_dict = {}\n",
    "n_index = []\n",
    "\n",
    "for i in range(n):\n",
    "    index,last = map(int, input().split())\n",
    "    n_dict[index] = last\n",
    "    n_index.append(index)\n",
    "    \n",
    "n_index.sort()\n",
    "\n",
    "for i in n_index:\n",
    "    print(str(i) + ' ' + str(n_dict[i]))"
   ]
  },
  {
   "cell_type": "code",
   "execution_count": 5,
   "metadata": {},
   "outputs": [
    {
     "name": "stdout",
     "output_type": "stream",
     "text": [
      "5\n",
      "50 23 54 24 123\n"
     ]
    }
   ],
   "source": [
    "# 코드업 3004번 데이터 정렬\n",
    "n = int(input())\n",
    "n_list = list(map(int, input().split()))\n",
    "\n",
    "n_list2 = sorted(n_list)\n",
    "n_dict = {}\n",
    "for i in range(len(n_list)):\n",
    "    n_dict[n_list2[i]] = i\n",
    "    \n",
    "\n",
    "for i in n_list:\n",
    "    print(n_dict[i], end=' ')"
   ]
  },
  {
   "cell_type": "code",
   "execution_count": 25,
   "metadata": {},
   "outputs": [
    {
     "data": {
      "text/plain": [
       "{23: 0, 24: 1, 50: 2, 54: 3, 123: 4}"
      ]
     },
     "execution_count": 25,
     "metadata": {},
     "output_type": "execute_result"
    }
   ],
   "source": [
    "n_dict"
   ]
  }
 ],
 "metadata": {
  "kernelspec": {
   "display_name": "Python 3",
   "language": "python",
   "name": "python3"
  },
  "language_info": {
   "codemirror_mode": {
    "name": "ipython",
    "version": 3
   },
   "file_extension": ".py",
   "mimetype": "text/x-python",
   "name": "python",
   "nbconvert_exporter": "python",
   "pygments_lexer": "ipython3",
   "version": "3.7.4"
  }
 },
 "nbformat": 4,
 "nbformat_minor": 2
}
