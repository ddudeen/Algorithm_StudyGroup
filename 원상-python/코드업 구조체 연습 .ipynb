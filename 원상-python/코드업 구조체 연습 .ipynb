{
 "cells": [
  {
   "cell_type": "code",
   "execution_count": null,
   "metadata": {},
   "outputs": [],
   "source": [
    "# 코드업 1805번\n",
    "\n",
    "n = int(input())\n",
    "n_dict = {}\n",
    "n_index = []\n",
    "\n",
    "for i in range(n):\n",
    "    index,last = map(int, input().split())\n",
    "    n_dict[index] = last\n",
    "    n_index.append(index)\n",
    "    \n",
    "n_index.sort()\n",
    "\n",
    "for i in n_index:\n",
    "    print(str(i) + ' ' + str(n_dict[i]))"
   ]
  },
  {
   "cell_type": "code",
   "execution_count": 5,
   "metadata": {},
   "outputs": [
    {
     "name": "stdout",
     "output_type": "stream",
     "text": [
      "5\n",
      "50 23 54 24 123\n"
     ]
    }
   ],
   "source": [
    "# 코드업 3004번 데이터 정렬\n",
    "n = int(input())\n",
    "n_list = list(map(int, input().split()))\n",
    "\n",
    "n_list2 = sorted(n_list)\n",
    "n_dict = {}\n",
    "for i in range(len(n_list)):\n",
    "    n_dict[n_list2[i]] = i\n",
    "    \n",
    "\n",
    "for i in n_list:\n",
    "    print(n_dict[i], end=' ')"
   ]
  },
  {
   "cell_type": "code",
   "execution_count": 37,
   "metadata": {},
   "outputs": [
    {
     "name": "stdout",
     "output_type": "stream",
     "text": [
      "4 1\n",
      "Kim 59\n",
      "Jeon 100\n",
      "Lee 90\n",
      "Bae 100\n",
      "Bae\n"
     ]
    }
   ],
   "source": [
    "# 코드업 3015번\n",
    "n,rank = map(int, input().split())\n",
    "n_dict = {}\n",
    "for i in range(n):\n",
    "    name, score = input().split()\n",
    "    n_dict[name] = score \n",
    "rank_dict = sorted(n_dict.items())\n",
    "for i in range(rank):\n",
    "    print(rank_dict[i][0])"
   ]
  },
  {
   "cell_type": "code",
   "execution_count": 268,
   "metadata": {
    "scrolled": false
   },
   "outputs": [
    {
     "ename": "AttributeError",
     "evalue": "'OutStream' object has no attribute 'buffer'",
     "output_type": "error",
     "traceback": [
      "\u001b[1;31m---------------------------------------------------------------------------\u001b[0m",
      "\u001b[1;31mAttributeError\u001b[0m                            Traceback (most recent call last)",
      "\u001b[1;32m<ipython-input-268-930e218bfe54>\u001b[0m in \u001b[0;36m<module>\u001b[1;34m\u001b[0m\n\u001b[0;32m      1\u001b[0m \u001b[1;31m# 코드업 3016번\u001b[0m\u001b[1;33m\u001b[0m\u001b[1;33m\u001b[0m\u001b[1;33m\u001b[0m\u001b[0m\n\u001b[0;32m      2\u001b[0m \u001b[1;32mimport\u001b[0m \u001b[0mio\u001b[0m\u001b[1;33m,\u001b[0m \u001b[0msys\u001b[0m\u001b[1;33m\u001b[0m\u001b[1;33m\u001b[0m\u001b[0m\n\u001b[1;32m----> 3\u001b[1;33m \u001b[0msys\u001b[0m\u001b[1;33m.\u001b[0m\u001b[0mstdout\u001b[0m \u001b[1;33m=\u001b[0m \u001b[0mio\u001b[0m\u001b[1;33m.\u001b[0m\u001b[0mTextIOWrapper\u001b[0m\u001b[1;33m(\u001b[0m\u001b[0msys\u001b[0m\u001b[1;33m.\u001b[0m\u001b[0mstdout\u001b[0m\u001b[1;33m.\u001b[0m\u001b[0mbuffer\u001b[0m\u001b[1;33m,\u001b[0m \u001b[0mencoding\u001b[0m\u001b[1;33m=\u001b[0m\u001b[1;34m'utf8'\u001b[0m\u001b[1;33m)\u001b[0m\u001b[1;33m\u001b[0m\u001b[1;33m\u001b[0m\u001b[0m\n\u001b[0m\u001b[0;32m      4\u001b[0m \u001b[1;33m\u001b[0m\u001b[0m\n\u001b[0;32m      5\u001b[0m \u001b[0mn\u001b[0m \u001b[1;33m=\u001b[0m \u001b[0mint\u001b[0m\u001b[1;33m(\u001b[0m\u001b[0minput\u001b[0m\u001b[1;33m(\u001b[0m\u001b[1;33m)\u001b[0m\u001b[1;33m)\u001b[0m\u001b[1;33m\u001b[0m\u001b[1;33m\u001b[0m\u001b[0m\n",
      "\u001b[1;31mAttributeError\u001b[0m: 'OutStream' object has no attribute 'buffer'"
     ]
    }
   ],
   "source": [
    "# 코드업 3016번\n",
    "n = int(input())\n",
    "n_dict = {}\n",
    "\n",
    "\n",
    "for i in range(n):\n",
    "    name,one,two,three = map(str, input().split())\n",
    "    n_dict[name] = [one,two,three]\n",
    "\n",
    "names = list(n_dict.keys())\n",
    "\n",
    "one_rank=[]\n",
    "two_rank=[]\n",
    "three_rank=[]\n",
    "\n",
    "for i in n_dict.keys():\n",
    "    one_rank.append(n_dict.get(i)[0])\n",
    "    two_rank.append(n_dict.get(i)[1])\n",
    "    three_rank.append(n_dict.get(i)[2])\n",
    "\n",
    "one_rank_copy = sorted(map(int, one_rank), reverse=True)\n",
    "two_rank_copy = sorted(map(int, two_rank), reverse=True)\n",
    "three_rank_copy = sorted(map(int, three_rank), reverse=True)\n",
    "\n",
    "dict_n = {}\n",
    "for i in range(1, n+1):\n",
    "    if one_rank_copy[i-1] != one_rank_copy[i-2]:\n",
    "        dict_n[one_rank_copy[i-1]] = i\n",
    "    else:\n",
    "        continue\n",
    "for i in range(n):\n",
    "    one_rank[i] = dict_n.get(int(one_rank[i]))\n",
    "    \n",
    "dict_n = {}\n",
    "for i in range(1, n+1):\n",
    "    if two_rank_copy[i-1] != two_rank_copy[i-2]:\n",
    "        dict_n[two_rank_copy[i-1]] = i\n",
    "    else:\n",
    "        continue\n",
    "for i in range(n):\n",
    "    two_rank[i] = dict_n.get(int(two_rank[i]))\n",
    "    \n",
    "dict_n = {}\n",
    "for i in range(1, n+1):\n",
    "    if three_rank_copy[i-1] != three_rank_copy[i-2]:\n",
    "        dict_n[three_rank_copy[i-1]] = i\n",
    "    else:\n",
    "        continue\n",
    "for i in range(n):\n",
    "    three_rank[i] = dict_n.get(int(three_rank[i]))\n",
    "    \n",
    "\n",
    "for i in range(n):\n",
    "    if one_rank[i] == 1:\n",
    "        print(names[i] + ' ' + str(two_rank[i]) + ' ' + str(three_rank[i]))"
   ]
  },
  {
   "cell_type": "code",
   "execution_count": null,
   "metadata": {},
   "outputs": [],
   "source": []
  }
 ],
 "metadata": {
  "kernelspec": {
   "display_name": "Python 3",
   "language": "python",
   "name": "python3"
  },
  "language_info": {
   "codemirror_mode": {
    "name": "ipython",
    "version": 3
   },
   "file_extension": ".py",
   "mimetype": "text/x-python",
   "name": "python",
   "nbconvert_exporter": "python",
   "pygments_lexer": "ipython3",
   "version": "3.7.4"
  }
 },
 "nbformat": 4,
 "nbformat_minor": 2
}
