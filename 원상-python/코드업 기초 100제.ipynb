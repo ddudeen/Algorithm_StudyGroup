{
 "cells": [
  {
   "cell_type": "code",
   "execution_count": 1,
   "metadata": {},
   "outputs": [
    {
     "name": "stdout",
     "output_type": "stream",
     "text": [
      "5\n",
      "6\n"
     ]
    }
   ],
   "source": [
    "# 코드업 1078번\n",
    "n = int(input())\n",
    "k = 0\n",
    "for i in range(n+1):\n",
    "    if (i%2) == 0:\n",
    "        k += i\n",
    "        \n",
    "print(k)"
   ]
  },
  {
   "cell_type": "code",
   "execution_count": 3,
   "metadata": {},
   "outputs": [
    {
     "name": "stdout",
     "output_type": "stream",
     "text": [
      "x b k d l q g a c\n",
      "x\n",
      "b\n",
      "k\n",
      "d\n",
      "l\n",
      "q\n"
     ]
    }
   ],
   "source": [
    "# 코드업 1079번\n",
    "n = list(input().split())\n",
    "for i in n:\n",
    "    print(i)\n",
    "    if i == 'q':\n",
    "        break"
   ]
  },
  {
   "cell_type": "code",
   "execution_count": 4,
   "metadata": {},
   "outputs": [
    {
     "name": "stdout",
     "output_type": "stream",
     "text": [
      "55\n",
      "10\n"
     ]
    }
   ],
   "source": [
    "# 코드업 1080번\n",
    "n = int(input())\n",
    "k = 0\n",
    "\n",
    "for i in range(1,n+1):\n",
    "    k += i\n",
    "    if k >= n:\n",
    "        break\n",
    "print(i)"
   ]
  },
  {
   "cell_type": "code",
   "execution_count": 6,
   "metadata": {},
   "outputs": [
    {
     "name": "stdout",
     "output_type": "stream",
     "text": [
      "B\n",
      "B*1=B\n",
      "B*2=16\n",
      "B*3=21\n",
      "B*4=2C\n",
      "B*5=37\n",
      "B*6=42\n",
      "B*7=4D\n",
      "B*8=58\n",
      "B*9=63\n",
      "B*A=6E\n",
      "B*B=79\n",
      "B*C=84\n",
      "B*D=8F\n",
      "B*E=9A\n",
      "B*F=A5\n"
     ]
    }
   ],
   "source": [
    "# 코드업 467번\n",
    "n = input()\n",
    "n_hex = int(n, 16)\n",
    "for i in range(1,16):\n",
    "    print(str(n) +'*'+ (str(format(i, 'x'))).upper() +'=' + (str(format(n_hex*i, 'x'))).upper())"
   ]
  },
  {
   "cell_type": "markdown",
   "metadata": {},
   "source": [
    "# 배운점\n",
    "- strring.upper() 대문자로 바꿔주는 명령어!\n",
    "- format(16진수, 'x') 16진수 소문자로 나옴. \n",
    "- int(n, 16) 16진수로 바꿔줌."
   ]
  },
  {
   "cell_type": "code",
   "execution_count": 9,
   "metadata": {},
   "outputs": [
    {
     "name": "stdout",
     "output_type": "stream",
     "text": [
      "F\n"
     ]
    }
   ],
   "source": [
    "value = 15\n",
    "b = format(value, 'x').upper()\n",
    "print(b)"
   ]
  },
  {
   "cell_type": "code",
   "execution_count": 2,
   "metadata": {},
   "outputs": [
    {
     "name": "stdout",
     "output_type": "stream",
     "text": [
      "39\n",
      "1 2 X 4 5 X 7 8 X 10 11 12 X 14 15 X 17 18 X 20 21 22 X 24 25 X 27 28 X X X X X X X X X X X "
     ]
    }
   ],
   "source": [
    "# 코드업 1083번\n",
    "# 3,6,9 게임\n",
    "n = int(input())\n",
    "n_list = []\n",
    "for i in range(1,n+1):\n",
    "    n_list.append(i)\n",
    "    \n",
    "print(1, end=' ')\n",
    "for i in range(1, n):\n",
    "    if '3' in str(n_list[i]) or '6' in str(n_list[i]) or '9' in str(n_list[i]):\n",
    "        print('X', end=' ')\n",
    "    else:\n",
    "        print(i+1, end=' ')"
   ]
  },
  {
   "cell_type": "code",
   "execution_count": 31,
   "metadata": {},
   "outputs": [
    {
     "name": "stdout",
     "output_type": "stream",
     "text": [
      "2 2 2\n",
      "0 0 0\n",
      "0 0 1\n",
      "0 1 0\n",
      "0 1 1\n",
      "1 0 0\n",
      "1 0 1\n",
      "1 1 0\n",
      "1 1 1\n",
      "8\n"
     ]
    }
   ],
   "source": [
    "# 코드업 1084번\n",
    "r,g,b = map(int, input().split())\n",
    "total = 0\n",
    "for i in range(r):\n",
    "    for j in range(g):\n",
    "        for k in range(b):\n",
    "            print(i, j, k)\n",
    "            total += 1\n",
    "print(total)"
   ]
  },
  {
   "cell_type": "code",
   "execution_count": 71,
   "metadata": {},
   "outputs": [
    {
     "name": "stdout",
     "output_type": "stream",
     "text": [
      "44100 16 2 10\n",
      "1.7 MB\n"
     ]
    }
   ],
   "source": [
    "# 코드업 1085번\n",
    "# 1초동안 마이크로 소리강약을 체크하는 수 h\n",
    "# 한번 체크한 결과를 저장하는 비트 b\n",
    "# 좌우 등 소리를 저장할 트랙 개수인 채널 c\n",
    "# 녹음할 시간 s\n",
    "# 44100 * 16 * 2 * 1\n",
    "\n",
    "h,b,c,s = map(int, input().split())\n",
    "\n",
    "bit = (h*b*c*s)\n",
    "byte = (bit)/8\n",
    "kbyte = byte/1024\n",
    "mbyte = kbyte/1024\n",
    "\n",
    "print(str(round(mbyte,1)) + ' MB')"
   ]
  },
  {
   "cell_type": "code",
   "execution_count": 101,
   "metadata": {},
   "outputs": [
    {
     "name": "stdout",
     "output_type": "stream",
     "text": [
      "100 100 4\n",
      "0.00 MB\n"
     ]
    }
   ],
   "source": [
    "# 코드업 1086번\n",
    "w, h, b = map(int, input().split())\n",
    "\n",
    "bit = (w*h*b)\n",
    "byte = bit / 8\n",
    "kbyte = byte/1024\n",
    "mbyte = kbyte/1024\n",
    "\n",
    "print(\"%.2f\" % mbyte + ' MB')"
   ]
  },
  {
   "cell_type": "code",
   "execution_count": 112,
   "metadata": {},
   "outputs": [
    {
     "name": "stdout",
     "output_type": "stream",
     "text": [
      "57\n",
      "66\n"
     ]
    }
   ],
   "source": [
    "# 코드업 1087번\n",
    "n = int(input())\n",
    "k = 0\n",
    "\n",
    "for i in range(1,n+1):\n",
    "    k += i\n",
    "    if k >= n:\n",
    "        break\n",
    "k = 0\n",
    "for j in range(1, i):\n",
    "    k += j\n",
    "print(i+k)"
   ]
  },
  {
   "cell_type": "code",
   "execution_count": 115,
   "metadata": {},
   "outputs": [
    {
     "name": "stdout",
     "output_type": "stream",
     "text": [
      "10\n",
      "1 2 4 5 7 8 10 "
     ]
    }
   ],
   "source": [
    "# 코드업 1088번\n",
    "\n",
    "n = int(input())\n",
    "\n",
    "for i in range(1,n+1):\n",
    "    if i%3 == 0 :\n",
    "        continue\n",
    "    else:\n",
    "        print(i, end=' ')"
   ]
  },
  {
   "cell_type": "code",
   "execution_count": 127,
   "metadata": {},
   "outputs": [
    {
     "name": "stdout",
     "output_type": "stream",
     "text": [
      "1 3 5\n",
      "13\n"
     ]
    }
   ],
   "source": [
    "# 코드업 1089번\n",
    "\n",
    "a, d, n = map(int, input().split())\n",
    "#a 시작 값,d 등차 값, n 몇번 째 정수?\n",
    "start = a\n",
    "\n",
    "for i in range(1, n):\n",
    "    start += d\n",
    "print(start)"
   ]
  },
  {
   "cell_type": "code",
   "execution_count": 128,
   "metadata": {
    "scrolled": true
   },
   "outputs": [
    {
     "name": "stdout",
     "output_type": "stream",
     "text": [
      "2 3 7\n",
      "1458\n"
     ]
    }
   ],
   "source": [
    "# 코드업 1089번\n",
    "\n",
    "a, d, n = map(int, input().split())\n",
    "#a 시작 값,d 등차 값, n 몇번 째 정수?\n",
    "start = a\n",
    "\n",
    "for i in range(1, n):\n",
    "    start *= d\n",
    "print(start)"
   ]
  },
  {
   "cell_type": "code",
   "execution_count": 137,
   "metadata": {},
   "outputs": [
    {
     "name": "stdout",
     "output_type": "stream",
     "text": [
      "1 -2 1 8\n",
      "-85\n"
     ]
    }
   ],
   "source": [
    "# 코드업 1091번\n",
    "a, m, d, n = map(int, input().split())\n",
    "#a 시작 값, m 곱할 값, d 더할 값, n 몇번 째 정수?\n",
    "start = a \n",
    "\n",
    "for i in range(1, n):\n",
    "    start *= m\n",
    "    start += d\n",
    "print(start)"
   ]
  },
  {
   "cell_type": "code",
   "execution_count": 146,
   "metadata": {},
   "outputs": [
    {
     "name": "stdout",
     "output_type": "stream",
     "text": [
      "3 7 9\n",
      "63\n"
     ]
    }
   ],
   "source": [
    "# 코드업 1092번\n",
    "a, b, c = map(int, input().split())\n",
    "day = 1\n",
    "\n",
    "while day%a != 0 or day%b != 0 or day%c != 0:\n",
    "    day += 1\n",
    "print(day)\n"
   ]
  },
  {
   "cell_type": "code",
   "execution_count": 165,
   "metadata": {},
   "outputs": [
    {
     "name": "stdout",
     "output_type": "stream",
     "text": [
      "10\n",
      "1 3 2 2 5 6 7 4 5 9\n",
      "1 2 1 1 2 1 1 0 1 0 0 0 0 0 0 0 0 0 0 0 0 0 0 "
     ]
    }
   ],
   "source": [
    "# 코드업 1093번\n",
    "n = int(input())\n",
    "random = list(map(int, input().split()))\n",
    "\n",
    "answer = []\n",
    "for i in range(23):\n",
    "    answer.append(0)\n",
    "    \n",
    "for i in random:\n",
    "    answer[i-1] += 1\n",
    "\n",
    "for j in answer:\n",
    "    print(j, end=' ')"
   ]
  },
  {
   "cell_type": "code",
   "execution_count": 173,
   "metadata": {},
   "outputs": [
    {
     "name": "stdout",
     "output_type": "stream",
     "text": [
      "10\n",
      "10 4 2 3 6 6 7 9 8 5\n"
     ]
    }
   ],
   "source": [
    "# 코드업 1094번\n",
    "n = int(input())\n",
    "random = list(map(int, input().split()))\n",
    "\n",
    "for i in range(len(random)):\n",
    "    print(random.pop(), end=' ')"
   ]
  },
  {
   "cell_type": "code",
   "execution_count": 176,
   "metadata": {
    "scrolled": true
   },
   "outputs": [
    {
     "name": "stdout",
     "output_type": "stream",
     "text": [
      "10\n",
      "10 4 2 3 6 6 7 9 8 5\n",
      "2\n"
     ]
    }
   ],
   "source": [
    "# 코드업 1095번\n",
    "n = int(input())\n",
    "random = list(map(int, input().split()))\n",
    "\n",
    "random.sort()\n",
    "\n",
    "print(random[0])"
   ]
  },
  {
   "cell_type": "code",
   "execution_count": 11,
   "metadata": {
    "scrolled": false
   },
   "outputs": [
    {
     "name": "stdout",
     "output_type": "stream",
     "text": [
      "5\n",
      "1 1\n",
      "2 2\n",
      "3 3\n",
      "4 4\n",
      "5 5\n",
      "1 0 0 0 0 0 0 0 0 0 0 0 0 0 0 0 0 0 0  \n",
      "0 1 0 0 0 0 0 0 0 0 0 0 0 0 0 0 0 0 0  \n",
      "0 0 1 0 0 0 0 0 0 0 0 0 0 0 0 0 0 0 0  \n",
      "0 0 0 1 0 0 0 0 0 0 0 0 0 0 0 0 0 0 0  \n",
      "0 0 0 0 1 0 0 0 0 0 0 0 0 0 0 0 0 0 0  \n",
      "0 0 0 0 0 0 0 0 0 0 0 0 0 0 0 0 0 0 0  \n",
      "0 0 0 0 0 0 0 0 0 0 0 0 0 0 0 0 0 0 0  \n",
      "0 0 0 0 0 0 0 0 0 0 0 0 0 0 0 0 0 0 0  \n",
      "0 0 0 0 0 0 0 0 0 0 0 0 0 0 0 0 0 0 0  \n",
      "0 0 0 0 0 0 0 0 0 0 0 0 0 0 0 0 0 0 0  \n",
      "0 0 0 0 0 0 0 0 0 0 0 0 0 0 0 0 0 0 0  \n",
      "0 0 0 0 0 0 0 0 0 0 0 0 0 0 0 0 0 0 0  \n",
      "0 0 0 0 0 0 0 0 0 0 0 0 0 0 0 0 0 0 0  \n",
      "0 0 0 0 0 0 0 0 0 0 0 0 0 0 0 0 0 0 0  \n",
      "0 0 0 0 0 0 0 0 0 0 0 0 0 0 0 0 0 0 0  \n",
      "0 0 0 0 0 0 0 0 0 0 0 0 0 0 0 0 0 0 0  \n",
      "0 0 0 0 0 0 0 0 0 0 0 0 0 0 0 0 0 0 0  \n",
      "0 0 0 0 0 0 0 0 0 0 0 0 0 0 0 0 0 0 0  \n",
      "0 0 0 0 0 0 0 0 0 0 0 0 0 0 0 0 0 0 0  \n"
     ]
    }
   ],
   "source": [
    "# 코드업 1096번\n",
    "import numpy as np\n",
    "data = []\n",
    "code = []\n",
    "\n",
    "n = int(input())\n",
    "for i in range(n):\n",
    "    code.append(list(map(int, input().split())))\n",
    "    \n",
    "\n",
    "for i in range(20):\n",
    "    data.append(('0,'*19).split(','))\n",
    "myarray = np.array(data)\n",
    "\n",
    "for i in code:\n",
    "    myarray[i[0]-1][i[1]-1] = 1\n",
    "\n",
    "\n",
    "for i in range(19):\n",
    "    for j in range(20):\n",
    "        print(myarray[i][j]+' ', end='')\n",
    "        if j == 19:\n",
    "            print('')\n",
    "        "
   ]
  },
  {
   "cell_type": "code",
   "execution_count": null,
   "metadata": {},
   "outputs": [],
   "source": []
  }
 ],
 "metadata": {
  "kernelspec": {
   "display_name": "Python 3",
   "language": "python",
   "name": "python3"
  },
  "language_info": {
   "codemirror_mode": {
    "name": "ipython",
    "version": 3
   },
   "file_extension": ".py",
   "mimetype": "text/x-python",
   "name": "python",
   "nbconvert_exporter": "python",
   "pygments_lexer": "ipython3",
   "version": "3.7.4"
  }
 },
 "nbformat": 4,
 "nbformat_minor": 2
}
