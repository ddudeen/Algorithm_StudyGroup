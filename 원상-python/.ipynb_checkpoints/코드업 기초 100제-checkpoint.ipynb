{
 "cells": [
  {
   "cell_type": "code",
   "execution_count": 1,
   "metadata": {},
   "outputs": [
    {
     "name": "stdout",
     "output_type": "stream",
     "text": [
      "5\n",
      "6\n"
     ]
    }
   ],
   "source": [
    "# 코드업 1078번\n",
    "n = int(input())\n",
    "k = 0\n",
    "for i in range(n+1):\n",
    "    if (i%2) == 0:\n",
    "        k += i\n",
    "        \n",
    "print(k)"
   ]
  },
  {
   "cell_type": "code",
   "execution_count": 3,
   "metadata": {},
   "outputs": [
    {
     "name": "stdout",
     "output_type": "stream",
     "text": [
      "x b k d l q g a c\n",
      "x\n",
      "b\n",
      "k\n",
      "d\n",
      "l\n",
      "q\n"
     ]
    }
   ],
   "source": [
    "# 코드업 1079번\n",
    "n = list(input().split())\n",
    "for i in n:\n",
    "    print(i)\n",
    "    if i == 'q':\n",
    "        break"
   ]
  },
  {
   "cell_type": "code",
   "execution_count": 4,
   "metadata": {},
   "outputs": [
    {
     "name": "stdout",
     "output_type": "stream",
     "text": [
      "55\n",
      "10\n"
     ]
    }
   ],
   "source": [
    "# 코드업 1080번\n",
    "n = int(input())\n",
    "k = 0\n",
    "\n",
    "for i in range(1,n+1):\n",
    "    k += i\n",
    "    if k >= n:\n",
    "        break\n",
    "print(i)"
   ]
  },
  {
   "cell_type": "code",
   "execution_count": 6,
   "metadata": {},
   "outputs": [
    {
     "name": "stdout",
     "output_type": "stream",
     "text": [
      "B\n",
      "B*1=B\n",
      "B*2=16\n",
      "B*3=21\n",
      "B*4=2C\n",
      "B*5=37\n",
      "B*6=42\n",
      "B*7=4D\n",
      "B*8=58\n",
      "B*9=63\n",
      "B*A=6E\n",
      "B*B=79\n",
      "B*C=84\n",
      "B*D=8F\n",
      "B*E=9A\n",
      "B*F=A5\n"
     ]
    }
   ],
   "source": [
    "# 코드업 467번\n",
    "n = input()\n",
    "n_hex = int(n, 16)\n",
    "for i in range(1,16):\n",
    "    print(str(n) +'*'+ (str(format(i, 'x'))).upper() +'=' + (str(format(n_hex*i, 'x'))).upper())"
   ]
  },
  {
   "cell_type": "markdown",
   "metadata": {},
   "source": [
    "# 배운점\n",
    "- strring.upper() 대문자로 바꿔주는 명령어!\n",
    "- format(16진수, 'x') 16진수 소문자로 나옴. \n",
    "- int(n, 16) 16진수로 바꿔줌."
   ]
  },
  {
   "cell_type": "code",
   "execution_count": 9,
   "metadata": {},
   "outputs": [
    {
     "name": "stdout",
     "output_type": "stream",
     "text": [
      "F\n"
     ]
    }
   ],
   "source": [
    "value = 15\n",
    "b = format(value, 'x').upper()\n",
    "print(b)"
   ]
  },
  {
   "cell_type": "code",
   "execution_count": 2,
   "metadata": {},
   "outputs": [
    {
     "name": "stdout",
     "output_type": "stream",
     "text": [
      "39\n",
      "1 2 X 4 5 X 7 8 X 10 11 12 X 14 15 X 17 18 X 20 21 22 X 24 25 X 27 28 X X X X X X X X X X X "
     ]
    }
   ],
   "source": [
    "# 코드업 1083번\n",
    "# 3,6,9 게임\n",
    "n = int(input())\n",
    "n_list = []\n",
    "for i in range(1,n+1):\n",
    "    n_list.append(i)\n",
    "    \n",
    "print(1, end=' ')\n",
    "for i in range(1, n):\n",
    "    if '3' in str(n_list[i]) or '6' in str(n_list[i]) or '9' in str(n_list[i]):\n",
    "        print('X', end=' ')\n",
    "    else:\n",
    "        print(i+1, end=' ')"
   ]
  },
  {
   "cell_type": "code",
   "execution_count": 31,
   "metadata": {},
   "outputs": [
    {
     "name": "stdout",
     "output_type": "stream",
     "text": [
      "2 2 2\n",
      "0 0 0\n",
      "0 0 1\n",
      "0 1 0\n",
      "0 1 1\n",
      "1 0 0\n",
      "1 0 1\n",
      "1 1 0\n",
      "1 1 1\n",
      "8\n"
     ]
    }
   ],
   "source": [
    "# 코드업 1084번\n",
    "r,g,b = map(int, input().split())\n",
    "total = 0\n",
    "for i in range(r):\n",
    "    for j in range(g):\n",
    "        for k in range(b):\n",
    "            print(i, j, k)\n",
    "            total += 1\n",
    "print(total)"
   ]
  },
  {
   "cell_type": "code",
   "execution_count": 61,
   "metadata": {},
   "outputs": [
    {
     "name": "stdout",
     "output_type": "stream",
     "text": [
      "44100 16 2 10\n"
     ]
    }
   ],
   "source": [
    "# 코드업 1085번\n",
    "# 1초동안 마이크로 소리강약을 체크하는 수 h\n",
    "# 한번 체크한 결과를 저장하는 비트 b\n",
    "# 좌우 등 소리를 저장할 트랙 개수인 채널 c\n",
    "# 녹음할 시간 s\n",
    "# 44100 * 16 * 2 * 1\n",
    "\n",
    "h,b,c,s = map(int, input().split())\n"
   ]
  },
  {
   "cell_type": "code",
   "execution_count": 62,
   "metadata": {},
   "outputs": [],
   "source": [
    "bit = (h*b*c*s)\n",
    "byte = (bit)/8\n",
    "kbyte = byte/1024\n",
    "mbyte = kbyte/1024\n",
    "print(str(round(mbyte,1)) + ' MB')"
   ]
  },
  {
   "cell_type": "code",
   "execution_count": 70,
   "metadata": {},
   "outputs": [
    {
     "name": "stdout",
     "output_type": "stream",
     "text": [
      "1.7 MB\n"
     ]
    }
   ],
   "source": [
    "print(str(round(mbyte,1)) + ' MB')"
   ]
  },
  {
   "cell_type": "code",
   "execution_count": 57,
   "metadata": {},
   "outputs": [
    {
     "data": {
      "text/plain": [
       "1411200"
      ]
     },
     "execution_count": 57,
     "metadata": {},
     "output_type": "execute_result"
    }
   ],
   "source": [
    "bit"
   ]
  },
  {
   "cell_type": "code",
   "execution_count": null,
   "metadata": {},
   "outputs": [],
   "source": []
  }
 ],
 "metadata": {
  "kernelspec": {
   "display_name": "Python 3",
   "language": "python",
   "name": "python3"
  },
  "language_info": {
   "codemirror_mode": {
    "name": "ipython",
    "version": 3
   },
   "file_extension": ".py",
   "mimetype": "text/x-python",
   "name": "python",
   "nbconvert_exporter": "python",
   "pygments_lexer": "ipython3",
   "version": "3.7.4"
  }
 },
 "nbformat": 4,
 "nbformat_minor": 2
}
